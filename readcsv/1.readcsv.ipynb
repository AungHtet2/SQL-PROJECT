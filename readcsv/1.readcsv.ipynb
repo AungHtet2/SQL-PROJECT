{
 "cells": [
  {
   "cell_type": "code",
   "execution_count": 4,
   "id": "a336c586",
   "metadata": {},
   "outputs": [],
   "source": [
    "import pandas as pd"
   ]
  },
  {
   "cell_type": "code",
   "execution_count": 5,
   "id": "2dc2853b",
   "metadata": {},
   "outputs": [
    {
     "name": "stdout",
     "output_type": "stream",
     "text": [
      "<class 'pandas.core.frame.DataFrame'>\n",
      "RangeIndex: 140033 entries, 0 to 140032\n",
      "Data columns (total 5 columns):\n",
      " #   Column       Non-Null Count   Dtype \n",
      "---  ------       --------------   ----- \n",
      " 0   company_id   140033 non-null  int64 \n",
      " 1   name         140030 non-null  object\n",
      " 2   link         54032 non-null   object\n",
      " 3   link_google  140009 non-null  object\n",
      " 4   thumbnail    81112 non-null   object\n",
      "dtypes: int64(1), object(4)\n",
      "memory usage: 5.3+ MB\n"
     ]
    }
   ],
   "source": [
    "df_company_dim = pd.read_csv(r\"D:\\DA_Portfolio\\SQL-PROJECT\\csv_files\\company_dim.csv\")\n",
    "df_company_dim.info()"
   ]
  },
  {
   "cell_type": "code",
   "execution_count": 6,
   "id": "f7d14035",
   "metadata": {},
   "outputs": [
    {
     "name": "stdout",
     "output_type": "stream",
     "text": [
      "<class 'pandas.core.frame.DataFrame'>\n",
      "RangeIndex: 787686 entries, 0 to 787685\n",
      "Data columns (total 16 columns):\n",
      " #   Column                 Non-Null Count   Dtype  \n",
      "---  ------                 --------------   -----  \n",
      " 0   job_id                 787686 non-null  int64  \n",
      " 1   company_id             787686 non-null  int64  \n",
      " 2   job_title_short        787686 non-null  object \n",
      " 3   job_title              787685 non-null  object \n",
      " 4   job_location           786633 non-null  object \n",
      " 5   job_via                787677 non-null  object \n",
      " 6   job_schedule_type      774981 non-null  object \n",
      " 7   job_work_from_home     787686 non-null  bool   \n",
      " 8   search_location        787686 non-null  object \n",
      " 9   job_posted_date        787686 non-null  object \n",
      " 10  job_no_degree_mention  787686 non-null  bool   \n",
      " 11  job_health_insurance   787686 non-null  bool   \n",
      " 12  job_country            787634 non-null  object \n",
      " 13  salary_rate            33100 non-null   object \n",
      " 14  salary_year_avg        22034 non-null   float64\n",
      " 15  salary_hour_avg        10665 non-null   float64\n",
      "dtypes: bool(3), float64(2), int64(2), object(9)\n",
      "memory usage: 80.4+ MB\n"
     ]
    },
    {
     "data": {
      "text/html": [
       "<div>\n",
       "<style scoped>\n",
       "    .dataframe tbody tr th:only-of-type {\n",
       "        vertical-align: middle;\n",
       "    }\n",
       "\n",
       "    .dataframe tbody tr th {\n",
       "        vertical-align: top;\n",
       "    }\n",
       "\n",
       "    .dataframe thead th {\n",
       "        text-align: right;\n",
       "    }\n",
       "</style>\n",
       "<table border=\"1\" class=\"dataframe\">\n",
       "  <thead>\n",
       "    <tr style=\"text-align: right;\">\n",
       "      <th></th>\n",
       "      <th>job_id</th>\n",
       "      <th>company_id</th>\n",
       "      <th>job_title_short</th>\n",
       "      <th>job_title</th>\n",
       "      <th>job_location</th>\n",
       "      <th>job_via</th>\n",
       "      <th>job_schedule_type</th>\n",
       "      <th>job_work_from_home</th>\n",
       "      <th>search_location</th>\n",
       "      <th>job_posted_date</th>\n",
       "      <th>job_no_degree_mention</th>\n",
       "      <th>job_health_insurance</th>\n",
       "      <th>job_country</th>\n",
       "      <th>salary_rate</th>\n",
       "      <th>salary_year_avg</th>\n",
       "      <th>salary_hour_avg</th>\n",
       "    </tr>\n",
       "  </thead>\n",
       "  <tbody>\n",
       "    <tr>\n",
       "      <th>0</th>\n",
       "      <td>0</td>\n",
       "      <td>0</td>\n",
       "      <td>Data Analyst</td>\n",
       "      <td>Marketing Data Analyst</td>\n",
       "      <td>Anywhere</td>\n",
       "      <td>via LinkedIn</td>\n",
       "      <td>Full-time</td>\n",
       "      <td>True</td>\n",
       "      <td>Serbia</td>\n",
       "      <td>2023-09-25 17:46:06</td>\n",
       "      <td>False</td>\n",
       "      <td>False</td>\n",
       "      <td>Serbia</td>\n",
       "      <td>NaN</td>\n",
       "      <td>NaN</td>\n",
       "      <td>NaN</td>\n",
       "    </tr>\n",
       "  </tbody>\n",
       "</table>\n",
       "</div>"
      ],
      "text/plain": [
       "   job_id  company_id job_title_short               job_title job_location  \\\n",
       "0       0           0    Data Analyst  Marketing Data Analyst     Anywhere   \n",
       "\n",
       "        job_via job_schedule_type  job_work_from_home search_location  \\\n",
       "0  via LinkedIn         Full-time                True          Serbia   \n",
       "\n",
       "       job_posted_date  job_no_degree_mention  job_health_insurance  \\\n",
       "0  2023-09-25 17:46:06                  False                 False   \n",
       "\n",
       "  job_country salary_rate  salary_year_avg  salary_hour_avg  \n",
       "0      Serbia         NaN              NaN              NaN  "
      ]
     },
     "execution_count": 6,
     "metadata": {},
     "output_type": "execute_result"
    }
   ],
   "source": [
    "df_job_posting_fact = pd.read_csv(r\"D:\\DA_Portfolio\\SQL-PROJECT\\csv_files\\job_postings_fact.csv\")\n",
    "df_job_posting_fact.info()\n",
    "df_job_posting_fact.head(1)"
   ]
  },
  {
   "cell_type": "code",
   "execution_count": 7,
   "id": "3e1418fe",
   "metadata": {},
   "outputs": [
    {
     "name": "stdout",
     "output_type": "stream",
     "text": [
      "<class 'pandas.core.frame.DataFrame'>\n",
      "RangeIndex: 259 entries, 0 to 258\n",
      "Data columns (total 3 columns):\n",
      " #   Column    Non-Null Count  Dtype \n",
      "---  ------    --------------  ----- \n",
      " 0   skill_id  259 non-null    int64 \n",
      " 1   skills    259 non-null    object\n",
      " 2   type      259 non-null    object\n",
      "dtypes: int64(1), object(2)\n",
      "memory usage: 6.2+ KB\n"
     ]
    }
   ],
   "source": [
    "df_skills_dim = pd.read_csv(r'D:\\DA_Portfolio\\SQL-PROJECT\\csv_files\\skills_dim.csv')\n",
    "df_skills_dim.info()"
   ]
  },
  {
   "cell_type": "code",
   "execution_count": 8,
   "id": "93f0410c",
   "metadata": {},
   "outputs": [
    {
     "name": "stdout",
     "output_type": "stream",
     "text": [
      "<class 'pandas.core.frame.DataFrame'>\n",
      "RangeIndex: 3669604 entries, 0 to 3669603\n",
      "Data columns (total 2 columns):\n",
      " #   Column    Dtype\n",
      "---  ------    -----\n",
      " 0   job_id    int64\n",
      " 1   skill_id  int64\n",
      "dtypes: int64(2)\n",
      "memory usage: 56.0 MB\n"
     ]
    }
   ],
   "source": [
    "df_skills_job_dim = pd.read_csv(r'D:\\DA_Portfolio\\SQL-PROJECT\\csv_files\\skills_job_dim.csv')\n",
    "df_skills_job_dim.info()"
   ]
  },
  {
   "cell_type": "code",
   "execution_count": null,
   "id": "4b9fd415",
   "metadata": {},
   "outputs": [],
   "source": []
  }
 ],
 "metadata": {
  "kernelspec": {
   "display_name": "GCS",
   "language": "python",
   "name": "python3"
  },
  "language_info": {
   "codemirror_mode": {
    "name": "ipython",
    "version": 3
   },
   "file_extension": ".py",
   "mimetype": "text/x-python",
   "name": "python",
   "nbconvert_exporter": "python",
   "pygments_lexer": "ipython3",
   "version": "3.12.9"
  }
 },
 "nbformat": 4,
 "nbformat_minor": 5
}
